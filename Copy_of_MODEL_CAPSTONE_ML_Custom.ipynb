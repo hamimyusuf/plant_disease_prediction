{
  "cells": [
    {
      "cell_type": "code",
      "execution_count": 1,
      "metadata": {
        "id": "JM3xIcAF03ov"
      },
      "outputs": [],
      "source": [
        "import tensorflow as tf\n",
        "import os\n",
        "import zipfile\n",
        "import tensorflow_datasets as tfds\n"
      ]
    },
    {
      "cell_type": "markdown",
      "metadata": {
        "id": "YCWi3WGzLRRw"
      },
      "source": [
        "# Prepare the Dataset"
      ]
    },
    {
      "cell_type": "code",
      "execution_count": 3,
      "metadata": {
        "colab": {
          "base_uri": "https://localhost:8080/"
        },
        "id": "QDRqvUYUEzFw",
        "outputId": "6066627a-4bf2-40fa-9903-a8affb7c0ded"
      },
      "outputs": [
        {
          "output_type": "stream",
          "name": "stdout",
          "text": [
            "Mounted at /content/drive\n"
          ]
        }
      ],
      "source": [
        "from google.colab import drive\n",
        "drive.mount('/content/drive')"
      ]
    },
    {
      "cell_type": "code",
      "execution_count": null,
      "metadata": {
        "id": "wKjOisC_E4cG"
      },
      "outputs": [],
      "source": [
        "!unzip '/content/drive/MyDrive/Colab/dataset.zip'"
      ]
    },
    {
      "cell_type": "code",
      "execution_count": null,
      "metadata": {
        "id": "v9MsKDHn3Wxb"
      },
      "outputs": [],
      "source": [
        "!unrar x -Y \"/content/drive/MyDrive/Colab/Rice Dataset.rar\" \"/content/dataset/\""
      ]
    },
    {
      "cell_type": "code",
      "execution_count": 4,
      "metadata": {
        "id": "azikHpwN3vZY"
      },
      "outputs": [],
      "source": [
        "import zipfile\n",
        "\n",
        "file_dataset = '/content/drive/MyDrive/Colab/dataset_capstone.zip'\n",
        "zipdata = zipfile.ZipFile(file_dataset, 'r')\n",
        "zipdata.extractall('dataset')\n",
        "zipdata.close()\n"
      ]
    },
    {
      "cell_type": "markdown",
      "metadata": {
        "id": "6K3ImY-XLJ3K"
      },
      "source": [
        "# Model Build"
      ]
    },
    {
      "cell_type": "code",
      "execution_count": 5,
      "metadata": {
        "colab": {
          "base_uri": "https://localhost:8080/"
        },
        "id": "UT2dhWIf3vur",
        "outputId": "448a3b97-e55e-4ab2-e56e-78943d22d82c"
      },
      "outputs": [
        {
          "output_type": "stream",
          "name": "stdout",
          "text": [
            "Model: \"sequential\"\n",
            "_________________________________________________________________\n",
            " Layer (type)                Output Shape              Param #   \n",
            "=================================================================\n",
            " conv2d (Conv2D)             (None, 198, 198, 64)      1792      \n",
            "                                                                 \n",
            " max_pooling2d (MaxPooling2D  (None, 99, 99, 64)       0         \n",
            " )                                                               \n",
            "                                                                 \n",
            " conv2d_1 (Conv2D)           (None, 97, 97, 128)       73856     \n",
            "                                                                 \n",
            " max_pooling2d_1 (MaxPooling  (None, 48, 48, 128)      0         \n",
            " 2D)                                                             \n",
            "                                                                 \n",
            " conv2d_2 (Conv2D)           (None, 46, 46, 256)       295168    \n",
            "                                                                 \n",
            " max_pooling2d_2 (MaxPooling  (None, 23, 23, 256)      0         \n",
            " 2D)                                                             \n",
            "                                                                 \n",
            " flatten (Flatten)           (None, 135424)            0         \n",
            "                                                                 \n",
            " dense (Dense)               (None, 128)               17334400  \n",
            "                                                                 \n",
            " dropout (Dropout)           (None, 128)               0         \n",
            "                                                                 \n",
            " dense_1 (Dense)             (None, 64)                8256      \n",
            "                                                                 \n",
            " dense_2 (Dense)             (None, 32)                2080      \n",
            "                                                                 \n",
            " dense_3 (Dense)             (None, 22)                726       \n",
            "                                                                 \n",
            "=================================================================\n",
            "Total params: 17,716,278\n",
            "Trainable params: 17,716,278\n",
            "Non-trainable params: 0\n",
            "_________________________________________________________________\n"
          ]
        }
      ],
      "source": [
        "import tensorflow as tf\n",
        "from tensorflow.keras.layers import Conv2D, Dense, PReLU, MaxPooling2D, Flatten, Dropout, BatchNormalization\n",
        "from tensorflow.keras.models import Sequential\n",
        "from tensorflow.keras.optimizers import Adam\n",
        "\n",
        "model = Sequential()\n",
        "model.add(Conv2D(64, (3, 3), activation='relu', input_shape=(200, 200, 3)))\n",
        "model.add(MaxPooling2D(2, 2))\n",
        "model.add(Conv2D(128, (3, 3), activation='relu'))\n",
        "model.add(MaxPooling2D(2, 2))\n",
        "model.add(Conv2D(256, (3, 3), activation='relu'))\n",
        "model.add(MaxPooling2D(2, 2))\n",
        "model.add(Flatten())\n",
        "model.add(Dense(128, activation='relu'))\n",
        "model.add(Dropout(0.5))\n",
        "model.add(Dense(64, activation='relu'))\n",
        "model.add(Dense(32, activation='relu'))\n",
        "model.add(Dense(22, activation='softmax'))\n",
        "\n",
        "model.summary()\n"
      ]
    },
    {
      "cell_type": "code",
      "execution_count": 6,
      "metadata": {
        "id": "FhkN92sW4DPY"
      },
      "outputs": [],
      "source": [
        "optimizer = tf.keras.optimizers.Adam(learning_rate=0.001)\n",
        "model.compile(optimizer=optimizer, loss='categorical_crossentropy', metrics=['accuracy'])"
      ]
    },
    {
      "cell_type": "markdown",
      "metadata": {
        "id": "f_6s9iSpK25x"
      },
      "source": [
        "# Data Augmentation\n",
        "*The settings can be changed later*\n"
      ]
    },
    {
      "cell_type": "code",
      "execution_count": 7,
      "metadata": {
        "colab": {
          "base_uri": "https://localhost:8080/"
        },
        "id": "MTOZUZHeK2d0",
        "outputId": "748e9a7f-bf8b-4050-8384-8a448ff949e5"
      },
      "outputs": [
        {
          "output_type": "stream",
          "name": "stdout",
          "text": [
            "Found 28347 images belonging to 22 classes.\n",
            "Found 7261 images belonging to 22 classes.\n"
          ]
        }
      ],
      "source": [
        "from keras.preprocessing.image import ImageDataGenerator\n",
        "\n",
        "TRAINING_DIR = '/content/dataset/DATASET/Train'\n",
        "training_datagen = ImageDataGenerator(\n",
        "    rescale=1./255,\n",
        "    rotation_range=40,\n",
        "    width_shift_range=0.2,\n",
        "    height_shift_range=0.2,\n",
        "    shear_range=0.2,\n",
        "    zoom_range=0.2,\n",
        "    horizontal_flip=True,\n",
        "    fill_mode='nearest'\n",
        ")\n",
        "\n",
        "VALIDATION_DIR = '/content/dataset/DATASET/Val'\n",
        "validation_datagen = ImageDataGenerator(rescale=1./255)\n",
        "\n",
        "train_generator = training_datagen.flow_from_directory(\n",
        "    TRAINING_DIR,\n",
        "    target_size=(200, 200),\n",
        "    class_mode='categorical',\n",
        "    batch_size=32\n",
        ")\n",
        "\n",
        "validation_generator = validation_datagen.flow_from_directory(\n",
        "    VALIDATION_DIR,\n",
        "    target_size=(200, 200),\n",
        "    class_mode='categorical',\n",
        "    batch_size=32\n",
        ")\n"
      ]
    },
    {
      "cell_type": "code",
      "execution_count": null,
      "metadata": {
        "id": "r1AFQSmok_Cf"
      },
      "outputs": [],
      "source": []
    },
    {
      "cell_type": "code",
      "execution_count": null,
      "metadata": {
        "id": "LLh_jLPfEgRU"
      },
      "outputs": [],
      "source": [
        "from google.colab import files\n",
        "\n",
        "model.save('model.h5')\n",
        "files.download('model.h5')"
      ]
    },
    {
      "cell_type": "code",
      "execution_count": null,
      "metadata": {
        "id": "XVjBIfKWoyKM"
      },
      "outputs": [],
      "source": [
        "model_h5 = '/content/drive/MyDrive/Colab/Model/my_model_rice_new.h5'\n",
        "model=tf.keras.models.load_model(model_h5)"
      ]
    },
    {
      "cell_type": "code",
      "execution_count": 8,
      "metadata": {
        "id": "RjDln84wBzmB"
      },
      "outputs": [],
      "source": [
        "from tensorflow.keras.callbacks import ModelCheckpoint\n",
        "\n",
        "checkpoint=ModelCheckpoint(\"/content/checkpoints\",\n",
        "                           monitor='val_accuracy',\n",
        "                           verbose=1,\n",
        "                           save_best_only=True,\n",
        "                           mode='max')\n"
      ]
    },
    {
      "cell_type": "code",
      "execution_count": 9,
      "metadata": {
        "id": "amEuhffwccgp"
      },
      "outputs": [],
      "source": [
        "class myCallback(tf.keras.callbacks.Callback):\n",
        "  def on_epoch_end(self, epoch, logs=None):\n",
        "      if logs['val_accuracy'] > 0.82:\n",
        "        if logs['val_loss'] < 0.50:\n",
        "          self.model.stop_training = True\n",
        "\n",
        "myCallback = myCallback()"
      ]
    },
    {
      "cell_type": "markdown",
      "metadata": {
        "id": "OR3_DH0tLY1w"
      },
      "source": [
        "# Train the Model"
      ]
    },
    {
      "cell_type": "code",
      "execution_count": 10,
      "metadata": {
        "colab": {
          "base_uri": "https://localhost:8080/"
        },
        "id": "COJvrmkBLYSr",
        "outputId": "4065455e-258f-474d-dfb6-d2d5e26b2e18"
      },
      "outputs": [
        {
          "output_type": "stream",
          "name": "stdout",
          "text": [
            "Epoch 1/50\n",
            "886/886 [==============================] - ETA: 0s - loss: 2.2517 - accuracy: 0.2195\n",
            "Epoch 1: val_accuracy improved from -inf to 0.39788, saving model to /content/checkpoints\n"
          ]
        },
        {
          "output_type": "stream",
          "name": "stderr",
          "text": [
            "WARNING:absl:Found untraced functions such as _jit_compiled_convolution_op, _jit_compiled_convolution_op, _jit_compiled_convolution_op while saving (showing 3 of 3). These functions will not be directly callable after loading.\n"
          ]
        },
        {
          "output_type": "stream",
          "name": "stdout",
          "text": [
            "\b\b\b\b\b\b\b\b\b\b\b\b\b\b\b\b\b\b\b\b\b\b\b\b\b\b\b\b\b\b\b\b\b\b\b\b\b\b\b\b\b\b\b\b\b\b\b\b\b\b\b\b\b\b\b\b\b\b\b\b\b\b\b\b\b\b\b\b\b\b\b\b\b\b\b\b\b\b\b\b\b\b\b\b\r886/886 [==============================] - 518s 567ms/step - loss: 2.2517 - accuracy: 0.2195 - val_loss: 1.6800 - val_accuracy: 0.3979\n",
            "Epoch 2/50\n",
            "886/886 [==============================] - ETA: 0s - loss: 1.7071 - accuracy: 0.4044\n",
            "Epoch 2: val_accuracy improved from 0.39788 to 0.50764, saving model to /content/checkpoints\n"
          ]
        },
        {
          "output_type": "stream",
          "name": "stderr",
          "text": [
            "WARNING:absl:Found untraced functions such as _jit_compiled_convolution_op, _jit_compiled_convolution_op, _jit_compiled_convolution_op while saving (showing 3 of 3). These functions will not be directly callable after loading.\n"
          ]
        },
        {
          "output_type": "stream",
          "name": "stdout",
          "text": [
            "\b\b\b\b\b\b\b\b\b\b\b\b\b\b\b\b\b\b\b\b\b\b\b\b\b\b\b\b\b\b\b\b\b\b\b\b\b\b\b\b\b\b\b\b\b\b\b\b\b\b\b\b\b\b\b\b\b\b\b\b\b\b\b\b\b\b\b\b\b\b\b\b\b\b\b\b\b\b\b\b\b\b\b\b\r886/886 [==============================] - 486s 549ms/step - loss: 1.7071 - accuracy: 0.4044 - val_loss: 1.3475 - val_accuracy: 0.5076\n",
            "Epoch 3/50\n",
            "886/886 [==============================] - ETA: 0s - loss: 1.4462 - accuracy: 0.4959\n",
            "Epoch 3: val_accuracy improved from 0.50764 to 0.65941, saving model to /content/checkpoints\n"
          ]
        },
        {
          "output_type": "stream",
          "name": "stderr",
          "text": [
            "WARNING:absl:Found untraced functions such as _jit_compiled_convolution_op, _jit_compiled_convolution_op, _jit_compiled_convolution_op while saving (showing 3 of 3). These functions will not be directly callable after loading.\n"
          ]
        },
        {
          "output_type": "stream",
          "name": "stdout",
          "text": [
            "\b\b\b\b\b\b\b\b\b\b\b\b\b\b\b\b\b\b\b\b\b\b\b\b\b\b\b\b\b\b\b\b\b\b\b\b\b\b\b\b\b\b\b\b\b\b\b\b\b\b\b\b\b\b\b\b\b\b\b\b\b\b\b\b\b\b\b\b\b\b\b\b\b\b\b\b\b\b\b\b\b\b\b\b\r886/886 [==============================] - 476s 537ms/step - loss: 1.4462 - accuracy: 0.4959 - val_loss: 0.9520 - val_accuracy: 0.6594\n",
            "Epoch 4/50\n",
            "886/886 [==============================] - ETA: 0s - loss: 1.3015 - accuracy: 0.5506\n",
            "Epoch 4: val_accuracy improved from 0.65941 to 0.70197, saving model to /content/checkpoints\n"
          ]
        },
        {
          "output_type": "stream",
          "name": "stderr",
          "text": [
            "WARNING:absl:Found untraced functions such as _jit_compiled_convolution_op, _jit_compiled_convolution_op, _jit_compiled_convolution_op while saving (showing 3 of 3). These functions will not be directly callable after loading.\n"
          ]
        },
        {
          "output_type": "stream",
          "name": "stdout",
          "text": [
            "\b\b\b\b\b\b\b\b\b\b\b\b\b\b\b\b\b\b\b\b\b\b\b\b\b\b\b\b\b\b\b\b\b\b\b\b\b\b\b\b\b\b\b\b\b\b\b\b\b\b\b\b\b\b\b\b\b\b\b\b\b\b\b\b\b\b\b\b\b\b\b\b\b\b\b\b\b\b\b\b\b\b\b\b\r886/886 [==============================] - 476s 537ms/step - loss: 1.3015 - accuracy: 0.5506 - val_loss: 0.8806 - val_accuracy: 0.7020\n",
            "Epoch 5/50\n",
            "886/886 [==============================] - ETA: 0s - loss: 1.1921 - accuracy: 0.5959\n",
            "Epoch 5: val_accuracy did not improve from 0.70197\n",
            "886/886 [==============================] - 482s 545ms/step - loss: 1.1921 - accuracy: 0.5959 - val_loss: 0.9887 - val_accuracy: 0.6944\n",
            "Epoch 6/50\n",
            "886/886 [==============================] - ETA: 0s - loss: 1.1140 - accuracy: 0.6212\n",
            "Epoch 6: val_accuracy improved from 0.70197 to 0.73764, saving model to /content/checkpoints\n"
          ]
        },
        {
          "output_type": "stream",
          "name": "stderr",
          "text": [
            "WARNING:absl:Found untraced functions such as _jit_compiled_convolution_op, _jit_compiled_convolution_op, _jit_compiled_convolution_op while saving (showing 3 of 3). These functions will not be directly callable after loading.\n"
          ]
        },
        {
          "output_type": "stream",
          "name": "stdout",
          "text": [
            "\b\b\b\b\b\b\b\b\b\b\b\b\b\b\b\b\b\b\b\b\b\b\b\b\b\b\b\b\b\b\b\b\b\b\b\b\b\b\b\b\b\b\b\b\b\b\b\b\b\b\b\b\b\b\b\b\b\b\b\b\b\b\b\b\b\b\b\b\b\b\b\b\b\b\b\b\b\b\b\b\b\b\b\b\r886/886 [==============================] - 519s 586ms/step - loss: 1.1140 - accuracy: 0.6212 - val_loss: 0.7515 - val_accuracy: 0.7376\n",
            "Epoch 7/50\n",
            "886/886 [==============================] - ETA: 0s - loss: 1.0515 - accuracy: 0.6395\n",
            "Epoch 7: val_accuracy did not improve from 0.73764\n",
            "886/886 [==============================] - 515s 581ms/step - loss: 1.0515 - accuracy: 0.6395 - val_loss: 0.8585 - val_accuracy: 0.7312\n",
            "Epoch 8/50\n",
            "886/886 [==============================] - ETA: 0s - loss: 1.0125 - accuracy: 0.6593\n",
            "Epoch 8: val_accuracy improved from 0.73764 to 0.78047, saving model to /content/checkpoints\n"
          ]
        },
        {
          "output_type": "stream",
          "name": "stderr",
          "text": [
            "WARNING:absl:Found untraced functions such as _jit_compiled_convolution_op, _jit_compiled_convolution_op, _jit_compiled_convolution_op while saving (showing 3 of 3). These functions will not be directly callable after loading.\n"
          ]
        },
        {
          "output_type": "stream",
          "name": "stdout",
          "text": [
            "\b\b\b\b\b\b\b\b\b\b\b\b\b\b\b\b\b\b\b\b\b\b\b\b\b\b\b\b\b\b\b\b\b\b\b\b\b\b\b\b\b\b\b\b\b\b\b\b\b\b\b\b\b\b\b\b\b\b\b\b\b\b\b\b\b\b\b\b\b\b\b\b\b\b\b\b\b\b\b\b\b\b\b\b\r886/886 [==============================] - 478s 539ms/step - loss: 1.0125 - accuracy: 0.6593 - val_loss: 0.6502 - val_accuracy: 0.7805\n",
            "Epoch 9/50\n",
            "886/886 [==============================] - ETA: 0s - loss: 0.9783 - accuracy: 0.6685\n",
            "Epoch 9: val_accuracy did not improve from 0.78047\n",
            "886/886 [==============================] - 475s 537ms/step - loss: 0.9783 - accuracy: 0.6685 - val_loss: 0.8967 - val_accuracy: 0.7235\n",
            "Epoch 10/50\n",
            "886/886 [==============================] - ETA: 0s - loss: 0.9341 - accuracy: 0.6881\n",
            "Epoch 10: val_accuracy improved from 0.78047 to 0.79204, saving model to /content/checkpoints\n"
          ]
        },
        {
          "output_type": "stream",
          "name": "stderr",
          "text": [
            "WARNING:absl:Found untraced functions such as _jit_compiled_convolution_op, _jit_compiled_convolution_op, _jit_compiled_convolution_op while saving (showing 3 of 3). These functions will not be directly callable after loading.\n"
          ]
        },
        {
          "output_type": "stream",
          "name": "stdout",
          "text": [
            "\b\b\b\b\b\b\b\b\b\b\b\b\b\b\b\b\b\b\b\b\b\b\b\b\b\b\b\b\b\b\b\b\b\b\b\b\b\b\b\b\b\b\b\b\b\b\b\b\b\b\b\b\b\b\b\b\b\b\b\b\b\b\b\b\b\b\b\b\b\b\b\b\b\b\b\b\b\b\b\b\b\b\b\b\r886/886 [==============================] - 481s 543ms/step - loss: 0.9341 - accuracy: 0.6881 - val_loss: 0.6274 - val_accuracy: 0.7920\n",
            "Epoch 11/50\n",
            "886/886 [==============================] - ETA: 0s - loss: 0.8931 - accuracy: 0.7021\n",
            "Epoch 11: val_accuracy did not improve from 0.79204\n",
            "886/886 [==============================] - 477s 538ms/step - loss: 0.8931 - accuracy: 0.7021 - val_loss: 0.6772 - val_accuracy: 0.7835\n",
            "Epoch 12/50\n",
            "886/886 [==============================] - ETA: 0s - loss: 0.8598 - accuracy: 0.7110\n",
            "Epoch 12: val_accuracy did not improve from 0.79204\n",
            "886/886 [==============================] - 480s 542ms/step - loss: 0.8598 - accuracy: 0.7110 - val_loss: 0.6575 - val_accuracy: 0.7825\n",
            "Epoch 13/50\n",
            "886/886 [==============================] - ETA: 0s - loss: 0.8277 - accuracy: 0.7208\n",
            "Epoch 13: val_accuracy did not improve from 0.79204\n",
            "886/886 [==============================] - 488s 551ms/step - loss: 0.8277 - accuracy: 0.7208 - val_loss: 0.7580 - val_accuracy: 0.7732\n",
            "Epoch 14/50\n",
            "886/886 [==============================] - ETA: 0s - loss: 0.8150 - accuracy: 0.7268\n",
            "Epoch 14: val_accuracy improved from 0.79204 to 0.80857, saving model to /content/checkpoints\n"
          ]
        },
        {
          "output_type": "stream",
          "name": "stderr",
          "text": [
            "WARNING:absl:Found untraced functions such as _jit_compiled_convolution_op, _jit_compiled_convolution_op, _jit_compiled_convolution_op while saving (showing 3 of 3). These functions will not be directly callable after loading.\n"
          ]
        },
        {
          "output_type": "stream",
          "name": "stdout",
          "text": [
            "\b\b\b\b\b\b\b\b\b\b\b\b\b\b\b\b\b\b\b\b\b\b\b\b\b\b\b\b\b\b\b\b\b\b\b\b\b\b\b\b\b\b\b\b\b\b\b\b\b\b\b\b\b\b\b\b\b\b\b\b\b\b\b\b\b\b\b\b\b\b\b\b\b\b\b\b\b\b\b\b\b\b\b\b\r886/886 [==============================] - 483s 546ms/step - loss: 0.8150 - accuracy: 0.7268 - val_loss: 0.6005 - val_accuracy: 0.8086\n",
            "Epoch 15/50\n",
            "886/886 [==============================] - ETA: 0s - loss: 0.7758 - accuracy: 0.7397\n",
            "Epoch 15: val_accuracy improved from 0.80857 to 0.81683, saving model to /content/checkpoints\n"
          ]
        },
        {
          "output_type": "stream",
          "name": "stderr",
          "text": [
            "WARNING:absl:Found untraced functions such as _jit_compiled_convolution_op, _jit_compiled_convolution_op, _jit_compiled_convolution_op while saving (showing 3 of 3). These functions will not be directly callable after loading.\n"
          ]
        },
        {
          "output_type": "stream",
          "name": "stdout",
          "text": [
            "\b\b\b\b\b\b\b\b\b\b\b\b\b\b\b\b\b\b\b\b\b\b\b\b\b\b\b\b\b\b\b\b\b\b\b\b\b\b\b\b\b\b\b\b\b\b\b\b\b\b\b\b\b\b\b\b\b\b\b\b\b\b\b\b\b\b\b\b\b\b\b\b\b\b\b\b\b\b\b\b\b\b\b\b\r886/886 [==============================] - 519s 586ms/step - loss: 0.7758 - accuracy: 0.7397 - val_loss: 0.5485 - val_accuracy: 0.8168\n",
            "Epoch 16/50\n",
            "886/886 [==============================] - ETA: 0s - loss: 0.7703 - accuracy: 0.7429\n",
            "Epoch 16: val_accuracy did not improve from 0.81683\n",
            "886/886 [==============================] - 478s 539ms/step - loss: 0.7703 - accuracy: 0.7429 - val_loss: 0.5936 - val_accuracy: 0.8090\n",
            "Epoch 17/50\n",
            "886/886 [==============================] - ETA: 0s - loss: 0.7578 - accuracy: 0.7491\n",
            "Epoch 17: val_accuracy did not improve from 0.81683\n",
            "886/886 [==============================] - 480s 542ms/step - loss: 0.7578 - accuracy: 0.7491 - val_loss: 0.5793 - val_accuracy: 0.8141\n",
            "Epoch 18/50\n",
            "886/886 [==============================] - ETA: 0s - loss: 0.7502 - accuracy: 0.7520\n",
            "Epoch 18: val_accuracy improved from 0.81683 to 0.84148, saving model to /content/checkpoints\n"
          ]
        },
        {
          "output_type": "stream",
          "name": "stderr",
          "text": [
            "WARNING:absl:Found untraced functions such as _jit_compiled_convolution_op, _jit_compiled_convolution_op, _jit_compiled_convolution_op while saving (showing 3 of 3). These functions will not be directly callable after loading.\n"
          ]
        },
        {
          "output_type": "stream",
          "name": "stdout",
          "text": [
            "\b\b\b\b\b\b\b\b\b\b\b\b\b\b\b\b\b\b\b\b\b\b\b\b\b\b\b\b\b\b\b\b\b\b\b\b\b\b\b\b\b\b\b\b\b\b\b\b\b\b\b\b\b\b\b\b\b\b\b\b\b\b\b\b\b\b\b\b\b\b\b\b\b\b\b\b\b\b\b\b\b\b\b\b\r886/886 [==============================] - 479s 541ms/step - loss: 0.7502 - accuracy: 0.7520 - val_loss: 0.5008 - val_accuracy: 0.8415\n",
            "Epoch 19/50\n",
            "886/886 [==============================] - ETA: 0s - loss: 0.7289 - accuracy: 0.7578\n",
            "Epoch 19: val_accuracy improved from 0.84148 to 0.84203, saving model to /content/checkpoints\n"
          ]
        },
        {
          "output_type": "stream",
          "name": "stderr",
          "text": [
            "WARNING:absl:Found untraced functions such as _jit_compiled_convolution_op, _jit_compiled_convolution_op, _jit_compiled_convolution_op while saving (showing 3 of 3). These functions will not be directly callable after loading.\n"
          ]
        },
        {
          "output_type": "stream",
          "name": "stdout",
          "text": [
            "\b\b\b\b\b\b\b\b\b\b\b\b\b\b\b\b\b\b\b\b\b\b\b\b\b\b\b\b\b\b\b\b\b\b\b\b\b\b\b\b\b\b\b\b\b\b\b\b\b\b\b\b\b\b\b\b\b\b\b\b\b\b\b\b\b\b\b\b\b\b\b\b\b\b\b\b\b\b\b\b\b\b\b\b\r886/886 [==============================] - 481s 542ms/step - loss: 0.7289 - accuracy: 0.7578 - val_loss: 0.4926 - val_accuracy: 0.8420\n"
          ]
        }
      ],
      "source": [
        "history = model.fit(train_generator, epochs=50, validation_data=validation_generator, callbacks=[myCallback, checkpoint])"
      ]
    },
    {
      "cell_type": "markdown",
      "metadata": {
        "id": "CwO4L4xEYGpa"
      },
      "source": [
        "Tes Akurasi dan Loss"
      ]
    },
    {
      "cell_type": "code",
      "execution_count": null,
      "metadata": {
        "id": "jXkrvAJKbUlB"
      },
      "outputs": [],
      "source": []
    },
    {
      "cell_type": "code",
      "execution_count": 11,
      "metadata": {
        "id": "Cfti4GoElB88",
        "colab": {
          "base_uri": "https://localhost:8080/"
        },
        "outputId": "cb0a5839-bdb1-4153-9fdc-e726e36db1f6"
      },
      "outputs": [
        {
          "output_type": "stream",
          "name": "stdout",
          "text": [
            "227/227 [==============================] - 46s 202ms/step - loss: 0.4926 - accuracy: 0.8420\n",
            "Test Loss: 0.4926469922065735\n",
            "Test Accuracy: 0.842032790184021\n"
          ]
        }
      ],
      "source": [
        "test_loss, test_accuracy = model.evaluate(validation_generator)\n",
        "print(\"Test Loss:\", test_loss)\n",
        "print(\"Test Accuracy:\", test_accuracy)"
      ]
    },
    {
      "cell_type": "markdown",
      "metadata": {
        "id": "sXsVcnWJYRMd"
      },
      "source": [
        "Run code below to show accuracy plot"
      ]
    },
    {
      "cell_type": "code",
      "execution_count": 12,
      "metadata": {
        "id": "fB_HrwpXfbos",
        "colab": {
          "base_uri": "https://localhost:8080/",
          "height": 449
        },
        "outputId": "fdcb374e-b536-4880-949c-e4f445bc0686"
      },
      "outputs": [
        {
          "output_type": "display_data",
          "data": {
            "text/plain": [
              "<Figure size 640x480 with 1 Axes>"
            ],
            "image/png": "[encoded data removed]"
          },
          "metadata": {}
        }
      ],
      "source": [
        "import matplotlib.pyplot as plt\n",
        "import numpy as np\n",
        "\n",
        "plt.plot(np.arange(19), history.history['accuracy'])\n",
        "plt.plot(np.arange(19), history.history['val_accuracy'])\n",
        "plt.legend(['accuracy', 'val_accuracy'])\n",
        "plt.xlabel('Epochs')\n",
        "plt.ylabel('Accuracy')\n",
        "plt.show()\n"
      ]
    },
    {
      "cell_type": "markdown",
      "metadata": {
        "id": "Kqh1oeZcF9vP"
      },
      "source": [
        "# Predict image using the model"
      ]
    },
    {
      "cell_type": "code",
      "execution_count": 37,
      "metadata": {
        "id": "N9sjZ9GIF98l",
        "colab": {
          "base_uri": "https://localhost:8080/",
          "height": 160
        },
        "outputId": "097f09e1-cef8-4fd0-c2d6-e8e3c2552a36"
      },
      "outputs": [
        {
          "output_type": "display_data",
          "data": {
            "text/plain": [
              "<IPython.core.display.HTML object>"
            ],
            "text/html": [
              "\n",
              "     <input type=\"file\" id=\"files-ffe8d8cb-7606-4fdb-b4b7-2ce95c9ad44b\" name=\"files[]\" multiple disabled\n",
              "        style=\"border:none\" />\n",
              "     <output id=\"result-ffe8d8cb-7606-4fdb-b4b7-2ce95c9ad44b\">\n",
              "      Upload widget is only available when the cell has been executed in the\n",
              "      current browser session. Please rerun this cell to enable.\n",
              "      </output>\n",
              "      <script>// Copyright 2017 Google LLC\n",
              "//\n",
              "// Licensed under the Apache License, Version 2.0 (the \"License\");\n",
              "// you may not use this file except in compliance with the License.\n",
              "// You may obtain a copy of the License at\n",
              "//\n",
              "//      http://www.apache.org/licenses/LICENSE-2.0\n",
              "//\n",
              "// Unless required by applicable law or agreed to in writing, software\n",
              "// distributed under the License is distributed on an \"AS IS\" BASIS,\n",
              "// WITHOUT WARRANTIES OR CONDITIONS OF ANY KIND, either express or implied.\n",
              "// See the License for the specific language governing permissions and\n",
              "// limitations under the License.\n",
              "\n",
              "/**\n",
              " * @fileoverview Helpers for google.colab Python module.\n",
              " */\n",
              "(function(scope) {\n",
              "function span(text, styleAttributes = {}) {\n",
              "  const element = document.createElement('span');\n",
              "  element.textContent = text;\n",
              "  for (const key of Object.keys(styleAttributes)) {\n",
              "    element.style[key] = styleAttributes[key];\n",
              "  }\n",
              "  return element;\n",
              "}\n",
              "\n",
              "// Max number of bytes which will be uploaded at a time.\n",
              "const MAX_PAYLOAD_SIZE = 100 * 1024;\n",
              "\n",
              "function _uploadFiles(inputId, outputId) {\n",
              "  const steps = uploadFilesStep(inputId, outputId);\n",
              "  const outputElement = document.getElementById(outputId);\n",
              "  // Cache steps on the outputElement to make it available for the next call\n",
              "  // to uploadFilesContinue from Python.\n",
              "  outputElement.steps = steps;\n",
              "\n",
              "  return _uploadFilesContinue(outputId);\n",
              "}\n",
              "\n",
              "// This is roughly an async generator (not supported in the browser yet),\n",
              "// where there are multiple asynchronous steps and the Python side is going\n",
              "// to poll for completion of each step.\n",
              "// This uses a Promise to block the python side on completion of each step,\n",
              "// then passes the result of the previous step as the input to the next step.\n",
              "function _uploadFilesContinue(outputId) {\n",
              "  const outputElement = document.getElementById(outputId);\n",
              "  const steps = outputElement.steps;\n",
              "\n",
              "  const next = steps.next(outputElement.lastPromiseValue);\n",
              "  return Promise.resolve(next.value.promise).then((value) => {\n",
              "    // Cache the last promise value to make it available to the next\n",
              "    // step of the generator.\n",
              "    outputElement.lastPromiseValue = value;\n",
              "    return next.value.response;\n",
              "  });\n",
              "}\n",
              "\n",
              "/**\n",
              " * Generator function which is called between each async step of the upload\n",
              " * process.\n",
              " * @param {string} inputId Element ID of the input file picker element.\n",
              " * @param {string} outputId Element ID of the output display.\n",
              " * @return {!Iterable<!Object>} Iterable of next steps.\n",
              " */\n",
              "function* uploadFilesStep(inputId, outputId) {\n",
              "  const inputElement = document.getElementById(inputId);\n",
              "  inputElement.disabled = false;\n",
              "\n",
              "  const outputElement = document.getElementById(outputId);\n",
              "  outputElement.innerHTML = '';\n",
              "\n",
              "  const pickedPromise = new Promise((resolve) => {\n",
              "    inputElement.addEventListener('change', (e) => {\n",
              "      resolve(e.target.files);\n",
              "    });\n",
              "  });\n",
              "\n",
              "  const cancel = document.createElement('button');\n",
              "  inputElement.parentElement.appendChild(cancel);\n",
              "  cancel.textContent = 'Cancel upload';\n",
              "  const cancelPromise = new Promise((resolve) => {\n",
              "    cancel.onclick = () => {\n",
              "      resolve(null);\n",
              "    };\n",
              "  });\n",
              "\n",
              "  // Wait for the user to pick the files.\n",
              "  const files = yield {\n",
              "    promise: Promise.race([pickedPromise, cancelPromise]),\n",
              "    response: {\n",
              "      action: 'starting',\n",
              "    }\n",
              "  };\n",
              "\n",
              "  cancel.remove();\n",
              "\n",
              "  // Disable the input element since further picks are not allowed.\n",
              "  inputElement.disabled = true;\n",
              "\n",
              "  if (!files) {\n",
              "    return {\n",
              "      response: {\n",
              "        action: 'complete',\n",
              "      }\n",
              "    };\n",
              "  }\n",
              "\n",
              "  for (const file of files) {\n",
              "    const li = document.createElement('li');\n",
              "    li.append(span(file.name, {fontWeight: 'bold'}));\n",
              "    li.append(span(\n",
              "        `(${file.type || 'n/a'}) - ${file.size} bytes, ` +\n",
              "        `last modified: ${\n",
              "            file.lastModifiedDate ? file.lastModifiedDate.toLocaleDateString() :\n",
              "                                    'n/a'} - `));\n",
              "    const percent = span('0% done');\n",
              "    li.appendChild(percent);\n",
              "\n",
              "    outputElement.appendChild(li);\n",
              "\n",
              "    const fileDataPromise = new Promise((resolve) => {\n",
              "      const reader = new FileReader();\n",
              "      reader.onload = (e) => {\n",
              "        resolve(e.target.result);\n",
              "      };\n",
              "      reader.readAsArrayBuffer(file);\n",
              "    });\n",
              "    // Wait for the data to be ready.\n",
              "    let fileData = yield {\n",
              "      promise: fileDataPromise,\n",
              "      response: {\n",
              "        action: 'continue',\n",
              "      }\n",
              "    };\n",
              "\n",
              "    // Use a chunked sending to avoid message size limits. See b/62115660.\n",
              "    let position = 0;\n",
              "    do {\n",
              "      const length = Math.min(fileData.byteLength - position, MAX_PAYLOAD_SIZE);\n",
              "      const chunk = new Uint8Array(fileData, position, length);\n",
              "      position += length;\n",
              "\n",
              "      const base64 = btoa(String.fromCharCode.apply(null, chunk));\n",
              "      yield {\n",
              "        response: {\n",
              "          action: 'append',\n",
              "          file: file.name,\n",
              "          data: base64,\n",
              "        },\n",
              "      };\n",
              "\n",
              "      let percentDone = fileData.byteLength === 0 ?\n",
              "          100 :\n",
              "          Math.round((position / fileData.byteLength) * 100);\n",
              "      percent.textContent = `${percentDone}% done`;\n",
              "\n",
              "    } while (position < fileData.byteLength);\n",
              "  }\n",
              "\n",
              "  // All done.\n",
              "  yield {\n",
              "    response: {\n",
              "      action: 'complete',\n",
              "    }\n",
              "  };\n",
              "}\n",
              "\n",
              "scope.google = scope.google || {};\n",
              "scope.google.colab = scope.google.colab || {};\n",
              "scope.google.colab._files = {\n",
              "  _uploadFiles,\n",
              "  _uploadFilesContinue,\n",
              "};\n",
              "})(self);\n",
              "</script> "
            ]
          },
          "metadata": {}
        },
        {
          "output_type": "stream",
          "name": "stdout",
          "text": [
            "Saving images (4).jpg to images (4).jpg\n",
            "1/1 [==============================] - 0s 22ms/step\n",
            "Tomato: Tomato_Target_Spot\n",
            "[[0. 0. 0. 0. 0. 0. 0. 0. 0. 0. 0. 0. 0. 0. 0. 0. 0. 0. 0. 0. 1. 0.]]\n",
            "images (4).jpg\n",
            "Hasil klasifikasi: Tomato_Target_Spot\n"
          ]
        }
      ],
      "source": [
        "import numpy as np\n",
        "from google.colab import files\n",
        "from tensorflow.keras.utils import load_img, img_to_array\n",
        "\n",
        "uploaded = files.upload()\n",
        "\n",
        "\n",
        "\n",
        "for fn in uploaded.keys():\n",
        "    path = fn\n",
        "    img = load_img(path, target_size=(200, 200))\n",
        "    x = img_to_array(img)\n",
        "    x = np.expand_dims(x, axis=0)\n",
        "\n",
        "    images = np.vstack([x])\n",
        "    classes = model.predict(images, batch_size=100)\n",
        "  \n",
        "    predicted_class_index = np.argmax(classes, axis=1)[0]\n",
        "    predicted_class = class_names[predicted_class_index]\n",
        "    \n",
        "    if predicted_class_index < 5:\n",
        "        print(\"Chili:\", predicted_class)\n",
        "    elif predicted_class_index < 11:\n",
        "        print(\"Rice:\", predicted_class)\n",
        "    elif predicted_class_index < 21:\n",
        "        print(\"Tomato:\", predicted_class)\n",
        "    \n",
        "    print(classes)\n",
        "    print(fn)\n",
        "    print(\"Hasil klasifikasi:\", predicted_class)\n"
      ]
    },
    {
      "cell_type": "code",
      "source": [
        "import os\n",
        "file_path = '/content/dataset/DATASET/Train/Rice_healthy/healthy (1).jpg'\n",
        "if os.path.exists(file_path):\n",
        "    print(\"Image file exists.\")\n",
        "else:\n",
        "    print(\"Image file not found.\")\n"
      ],
      "metadata": {
        "colab": {
          "base_uri": "https://localhost:8080/"
        },
        "id": "8SKf3Wxumfvr",
        "outputId": "d4c878e3-fce7-4dce-abdf-639123c7f017"
      },
      "execution_count": 24,
      "outputs": [
        {
          "output_type": "stream",
          "name": "stdout",
          "text": [
            "Image file exists.\n"
          ]
        }
      ]
    },
    {
      "cell_type": "markdown",
      "source": [],
      "metadata": {
        "id": "L95BaiBRlZ9I"
      }
    },
    {
      "cell_type": "code",
      "execution_count": 26,
      "metadata": {
        "id": "mq2Whz6Be7yl",
        "colab": {
          "base_uri": "https://localhost:8080/"
        },
        "outputId": "c398e3b1-be4a-4ea2-fe07-6fdffdd6199e"
      },
      "outputs": [
        {
          "output_type": "stream",
          "name": "stdout",
          "text": [
            "\r 1/72 [..............................] - ETA: 1s"
          ]
        },
        {
          "output_type": "stream",
          "name": "stderr",
          "text": [
            "WARNING:tensorflow:Your input ran out of data; interrupting training. Make sure that your dataset or generator can generate at least `steps_per_epoch * epochs` batches (in this case, 72 batches). You may need to use the repeat() function when building your dataset.\n"
          ]
        },
        {
          "output_type": "stream",
          "name": "stdout",
          "text": [
            "\b\b\b\b\b\b\b\b\b\b\b\b\b\b\b\b\b\b\b\b\b\b\b\b\b\b\b\b\b\b\b\b\b\b\b\b\b\b\b\b\b\b\b\b\b\b\b\b\r72/72 [==============================] - 0s 385us/step\n",
            "[[0. 0. 0. 0. 0. 0. 0. 0. 0. 0. 0. 0. 0. 0. 0. 0. 0. 0. 0. 0. 1. 0.]]\n",
            "20\n",
            "000ec6ea-9063-4c33-8abe-d58ca8a88878___PSU_CG 2169_180deg.JPG\n",
            "Hasil klasifikasi: Tomato_Target_Spot\n"
          ]
        }
      ],
      "source": [
        "import numpy as np\n",
        "from google.colab import files\n",
        "from tensorflow.keras.utils import load_img, img_to_array\n",
        "img = load_img('/content/dataset/DATASET/Train/Rice_healthy/healthy (1).jpg', target_size=(200, 200))\n",
        "img = np.expand_dims(img, axis=0)\n",
        "#images = np.vstack([img])\n",
        "classes = model.predict(img, batch_size=100, steps=72)\n",
        "predicted_class_index = np.argmax(classes, axis=1)[0]\n",
        "predicted_class = class_names[predicted_class_index]\n",
        "print(classes)\n",
        "print(predicted_class_index)\n",
        "print(fn)\n",
        "print(\"Hasil klasifikasi:\", predicted_class)"
      ]
    },
    {
      "cell_type": "markdown",
      "metadata": {
        "id": "hQkwLlyFF8d1"
      },
      "source": [
        "# Save the Trained Model"
      ]
    },
    {
      "cell_type": "code",
      "execution_count": 31,
      "metadata": {
        "id": "GW8PLovbF9GV",
        "colab": {
          "base_uri": "https://localhost:8080/",
          "height": 17
        },
        "outputId": "882107ff-0b08-4b51-a6b5-b3298c3b8434"
      },
      "outputs": [
        {
          "output_type": "display_data",
          "data": {
            "text/plain": [
              "<IPython.core.display.Javascript object>"
            ],
            "application/javascript": [
              "\n",
              "    async function download(id, filename, size) {\n",
              "      if (!google.colab.kernel.accessAllowed) {\n",
              "        return;\n",
              "      }\n",
              "      const div = document.createElement('div');\n",
              "      const label = document.createElement('label');\n",
              "      label.textContent = `Downloading \"${filename}\": `;\n",
              "      div.appendChild(label);\n",
              "      const progress = document.createElement('progress');\n",
              "      progress.max = size;\n",
              "      div.appendChild(progress);\n",
              "      document.body.appendChild(div);\n",
              "\n",
              "      const buffers = [];\n",
              "      let downloaded = 0;\n",
              "\n",
              "      const channel = await google.colab.kernel.comms.open(id);\n",
              "      // Send a message to notify the kernel that we're ready.\n",
              "      channel.send({})\n",
              "\n",
              "      for await (const message of channel.messages) {\n",
              "        // Send a message to notify the kernel that we're ready.\n",
              "        channel.send({})\n",
              "        if (message.buffers) {\n",
              "          for (const buffer of message.buffers) {\n",
              "            buffers.push(buffer);\n",
              "            downloaded += buffer.byteLength;\n",
              "            progress.value = downloaded;\n",
              "          }\n",
              "        }\n",
              "      }\n",
              "      const blob = new Blob(buffers, {type: 'application/binary'});\n",
              "      const a = document.createElement('a');\n",
              "      a.href = window.URL.createObjectURL(blob);\n",
              "      a.download = filename;\n",
              "      div.appendChild(a);\n",
              "      a.click();\n",
              "      div.remove();\n",
              "    }\n",
              "  "
            ]
          },
          "metadata": {}
        },
        {
          "output_type": "display_data",
          "data": {
            "text/plain": [
              "<IPython.core.display.Javascript object>"
            ],
            "application/javascript": [
              "download(\"download_cd30f707-e78c-44a5-aba8-6f9d74b99172\", \"my_model.h5\", 212659648)"
            ]
          },
          "metadata": {}
        }
      ],
      "source": [
        "#Save the trained model as a Keras HDF5 file. \n",
        "saved_model_path = \"./my_model.h5\"\n",
        "model.save(saved_model_path)\n",
        "files.download(saved_model_path)"
      ]
    },
    {
      "cell_type": "code",
      "execution_count": null,
      "metadata": {
        "id": "WYGEX2RrhXGj"
      },
      "outputs": [],
      "source": [
        "!cp '/content/my_model_rice90.h5' '/content/drive/MyDrive/Colab/Model'"
      ]
    },
    {
      "cell_type": "code",
      "execution_count": null,
      "metadata": {
        "id": "aQsBVHn8FQVe"
      },
      "outputs": [],
      "source": [
        "!cp '/content/model_rice_new.json' '/content/drive/MyDrive/Colab/Model'"
      ]
    },
    {
      "cell_type": "markdown",
      "metadata": {
        "id": "AjkzCbgryJeZ"
      },
      "source": [
        "Save Model to Json"
      ]
    },
    {
      "cell_type": "code",
      "execution_count": 32,
      "metadata": {
        "id": "R_s-V-l-yTl4",
        "colab": {
          "base_uri": "https://localhost:8080/",
          "height": 17
        },
        "outputId": "6ca812d0-32ed-41ce-c180-64599ef68aab"
      },
      "outputs": [
        {
          "output_type": "display_data",
          "data": {
            "text/plain": [
              "<IPython.core.display.Javascript object>"
            ],
            "application/javascript": [
              "\n",
              "    async function download(id, filename, size) {\n",
              "      if (!google.colab.kernel.accessAllowed) {\n",
              "        return;\n",
              "      }\n",
              "      const div = document.createElement('div');\n",
              "      const label = document.createElement('label');\n",
              "      label.textContent = `Downloading \"${filename}\": `;\n",
              "      div.appendChild(label);\n",
              "      const progress = document.createElement('progress');\n",
              "      progress.max = size;\n",
              "      div.appendChild(progress);\n",
              "      document.body.appendChild(div);\n",
              "\n",
              "      const buffers = [];\n",
              "      let downloaded = 0;\n",
              "\n",
              "      const channel = await google.colab.kernel.comms.open(id);\n",
              "      // Send a message to notify the kernel that we're ready.\n",
              "      channel.send({})\n",
              "\n",
              "      for await (const message of channel.messages) {\n",
              "        // Send a message to notify the kernel that we're ready.\n",
              "        channel.send({})\n",
              "        if (message.buffers) {\n",
              "          for (const buffer of message.buffers) {\n",
              "            buffers.push(buffer);\n",
              "            downloaded += buffer.byteLength;\n",
              "            progress.value = downloaded;\n",
              "          }\n",
              "        }\n",
              "      }\n",
              "      const blob = new Blob(buffers, {type: 'application/binary'});\n",
              "      const a = document.createElement('a');\n",
              "      a.href = window.URL.createObjectURL(blob);\n",
              "      a.download = filename;\n",
              "      div.appendChild(a);\n",
              "      a.click();\n",
              "      div.remove();\n",
              "    }\n",
              "  "
            ]
          },
          "metadata": {}
        },
        {
          "output_type": "display_data",
          "data": {
            "text/plain": [
              "<IPython.core.display.Javascript object>"
            ],
            "application/javascript": [
              "download(\"download_d59076f7-a014-40c1-9966-fafe366a8a3d\", \"my_model.json\", 4586)"
            ]
          },
          "metadata": {}
        }
      ],
      "source": [
        "from tensorflow.keras.models import load_model\n",
        "from google.colab import files\n",
        "\n",
        "# Load the saved model\n",
        "saved_model_path = \"./my_model.h5\"\n",
        "model = load_model(saved_model_path)\n",
        "\n",
        "# Convert the model to JSON format\n",
        "json_model = model.to_json()\n",
        "\n",
        "# Save the JSON model to a file\n",
        "json_model_path = \"./my_model.json\"\n",
        "with open(json_model_path, \"w\") as json_file:\n",
        "    json_file.write(json_model)\n",
        "\n",
        "# Download the JSON model file\n",
        "files.download(json_model_path)\n"
      ]
    },
    {
      "cell_type": "markdown",
      "metadata": {
        "id": "PAEy54QhVGkJ"
      },
      "source": [
        "Save to TensorFlow Lite"
      ]
    },
    {
      "cell_type": "code",
      "execution_count": 33,
      "metadata": {
        "id": "L6MFp6-gVTua",
        "colab": {
          "base_uri": "https://localhost:8080/",
          "height": 54
        },
        "outputId": "268b8fc6-2eeb-4f9e-8625-991d319bc6b2"
      },
      "outputs": [
        {
          "output_type": "stream",
          "name": "stderr",
          "text": [
            "WARNING:absl:Found untraced functions such as _jit_compiled_convolution_op, _jit_compiled_convolution_op, _jit_compiled_convolution_op, _update_step_xla while saving (showing 4 of 4). These functions will not be directly callable after loading.\n"
          ]
        },
        {
          "output_type": "display_data",
          "data": {
            "text/plain": [
              "<IPython.core.display.Javascript object>"
            ],
            "application/javascript": [
              "\n",
              "    async function download(id, filename, size) {\n",
              "      if (!google.colab.kernel.accessAllowed) {\n",
              "        return;\n",
              "      }\n",
              "      const div = document.createElement('div');\n",
              "      const label = document.createElement('label');\n",
              "      label.textContent = `Downloading \"${filename}\": `;\n",
              "      div.appendChild(label);\n",
              "      const progress = document.createElement('progress');\n",
              "      progress.max = size;\n",
              "      div.appendChild(progress);\n",
              "      document.body.appendChild(div);\n",
              "\n",
              "      const buffers = [];\n",
              "      let downloaded = 0;\n",
              "\n",
              "      const channel = await google.colab.kernel.comms.open(id);\n",
              "      // Send a message to notify the kernel that we're ready.\n",
              "      channel.send({})\n",
              "\n",
              "      for await (const message of channel.messages) {\n",
              "        // Send a message to notify the kernel that we're ready.\n",
              "        channel.send({})\n",
              "        if (message.buffers) {\n",
              "          for (const buffer of message.buffers) {\n",
              "            buffers.push(buffer);\n",
              "            downloaded += buffer.byteLength;\n",
              "            progress.value = downloaded;\n",
              "          }\n",
              "        }\n",
              "      }\n",
              "      const blob = new Blob(buffers, {type: 'application/binary'});\n",
              "      const a = document.createElement('a');\n",
              "      a.href = window.URL.createObjectURL(blob);\n",
              "      a.download = filename;\n",
              "      div.appendChild(a);\n",
              "      a.click();\n",
              "      div.remove();\n",
              "    }\n",
              "  "
            ]
          },
          "metadata": {}
        },
        {
          "output_type": "display_data",
          "data": {
            "text/plain": [
              "<IPython.core.display.Javascript object>"
            ],
            "application/javascript": [
              "download(\"download_ccf8cfc1-9442-4bbf-b9a4-0654c7c21e26\", \"my_model.tflite\", 70870004)"
            ]
          },
          "metadata": {}
        }
      ],
      "source": [
        "import tensorflow as tf\n",
        "from tensorflow.keras.models import load_model\n",
        "from google.colab import files\n",
        "\n",
        "\n",
        "saved_model_path = \"./my_model.h5\"\n",
        "model = load_model(saved_model_path)\n",
        "\n",
        "\n",
        "converter = tf.lite.TFLiteConverter.from_keras_model(model)\n",
        "tflite_model = converter.convert()\n",
        "\n",
        "\n",
        "tflite_model_path = \"./my_model.tflite\"\n",
        "with open(tflite_model_path, \"wb\") as tflite_file:\n",
        "    tflite_file.write(tflite_model)\n",
        "\n",
        "files.download(tflite_model_path)\n"
      ]
    },
    {
      "cell_type": "code",
      "execution_count": null,
      "metadata": {
        "id": "qtl5TFXXVvBG"
      },
      "outputs": [],
      "source": [
        "converter=tf.lite.TFLiteConverter.from_keras_model(model)\n",
        "tflite_model=converter.convert"
      ]
    },
    {
      "cell_type": "code",
      "execution_count": null,
      "metadata": {
        "id": "gkxW1wODV_Yq"
      },
      "outputs": [],
      "source": [
        "with open (\"model.tflite\",\"wb\") as tflite_file:\n",
        "     tflite_file.write(converter)"
      ]
    },
    {
      "cell_type": "code",
      "execution_count": null,
      "metadata": {
        "id": "aEHplcLcVoOZ"
      },
      "outputs": [],
      "source": [
        "import os\n",
        "from PIL import Image\n",
        "\n",
        "folder_path = '/content/dataset/DATASET/Val'\n",
        "\n",
        "def check_images(folder_path):\n",
        "    for root, dirs, files in os.walk(folder_path):\n",
        "        for file in files:\n",
        "            file_path = os.path.join(root, file)\n",
        "            try:\n",
        "                img = Image.open(file_path)\n",
        "                img.verify()  # Verifikasi gambar\n",
        "            except (IOError, SyntaxError) as e:\n",
        "                print(\"File rusak:\", file_path)\n",
        "\n",
        "check_images(folder_path)\n"
      ]
    }
  ],
  "metadata": {
    "accelerator": "GPU",
    "colab": {
      "provenance": []
    },
    "kernelspec": {
      "display_name": "Python 3",
      "name": "python3"
    },
    "language_info": {
      "name": "python"
    }
  },
  "nbformat": 4,
  "nbformat_minor": 0
}